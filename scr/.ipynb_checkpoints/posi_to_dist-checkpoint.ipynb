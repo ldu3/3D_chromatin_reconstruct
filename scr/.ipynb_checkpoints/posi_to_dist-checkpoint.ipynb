{
 "cells": [
  {
   "cell_type": "code",
   "execution_count": 18,
   "metadata": {},
   "outputs": [],
   "source": [
    "import pandas as pd\n",
    "import os\n",
    "import numpy as np\n",
    "from sklearn.metrics.pairwise import pairwise_distances\n",
    "import concurrent.futures\n",
    "\n",
    "## calculate the distance between beads from the 3D chromatin chains data \n",
    "\n",
    "def make_dir(d):\n",
    "    '''Utility for making a directory if not existing.'''\n",
    "    if not os.path.exists(d):\n",
    "        os.makedirs(d)\n",
    "        \n",
    "\n",
    "### load position data\n",
    "dist_df_output_path = '../sample_data/chain_dist_df/'\n",
    "make_dir(dist_df_output_path)\n",
    "\n",
    "posi_data_path = '../sample_data/3D_chromatin_chains/GM12878_chr2.230805000.231690000/'\n",
    "posi_data_list = os.listdir(posi_data_path)\n",
    "all_posi_data = []\n",
    "\n",
    "### calculate the dist_df for each chain\n",
    "for chain in posi_data_list:\n",
    "    position_data = np.loadtxt(posi_data_path+chain)\n",
    "    dist_arr = pairwise_distances(X = position_data, metric = 'euclidean', n_jobs = 10)\n",
    "    dist_df = pd.DataFrame(dist_arr)\n",
    "    dist_df.to_csv(dist_df_output_path+chain+'.csv',index=False)\n",
    "    \n",
    "    dist_df_melted = dist_df.melt(var_name='j', value_name=chain, ignore_index=False).reset_index().rename(columns={'index': 'i'})\n",
    "    all_posi_data.append(dist_df_melted)    \n",
    "all_posi_df = all_posi_data[0]\n",
    "\n",
    "### merge chain dist data\n",
    "for df in all_posi_data[1:]:\n",
    "    all_posi_df = all_posi_df.merge(df, on=['i','j'])\n",
    "all_posi_df.to_csv(dist_df_output_path+'all_GM_dist_df.csv',index=False)"
   ]
  },
  {
   "cell_type": "code",
   "execution_count": null,
   "metadata": {},
   "outputs": [],
   "source": []
  }
 ],
 "metadata": {
  "kernelspec": {
   "display_name": "Python 3",
   "language": "python",
   "name": "python3"
  },
  "language_info": {
   "codemirror_mode": {
    "name": "ipython",
    "version": 3
   },
   "file_extension": ".py",
   "mimetype": "text/x-python",
   "name": "python",
   "nbconvert_exporter": "python",
   "pygments_lexer": "ipython3",
   "version": "3.8.5"
  }
 },
 "nbformat": 4,
 "nbformat_minor": 4
}
