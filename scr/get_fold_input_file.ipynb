{
 "cells": [
  {
   "cell_type": "code",
   "execution_count": 1,
   "metadata": {},
   "outputs": [],
   "source": [
    "import pandas as pd\n",
    "import os\n",
    "import concurrent.futures\n",
    "\n",
    "def make_dir(d):\n",
    "    '''Utility for making a directory if not existing.'''\n",
    "    if not os.path.exists(d):\n",
    "        os.makedirs(d)\n",
    "        \n",
    "def load_data(cell_line,tad):## cell line (GM12878/K562/IMR90)\n",
    "    hic_data = pd.read_csv(HIC_INPUT_PATH+tad+'/hic.clean.1/hic.clean.csv')\n",
    "    return hic_data\n",
    "\n",
    "def get_spe_inter(hic_data,alpha=0.01):## alpha deflaut value = 0.05\n",
    "    hic_spe = hic_data.loc[hic_data['fdr']<alpha]\n",
    "    return hic_spe\n",
    "def get_spe_pval_inter(hic_data,p_value=0.05):\n",
    "    hic_spe = hic_data.loc[hic_data['pval']<p_value]\n",
    "    return hic_spe\n",
    "\n",
    "def get_fold_inputs(spe_df):    \n",
    "    spe_out_df = spe_df[['ibp','jbp','fq','i1','j1']]\n",
    "    spe_out_df['chr']=chr_num\n",
    "    spe_out_df['w'] = [1]*len(spe_out_df)\n",
    "    result = spe_out_df[['chr','ibp','jbp','fq','w']]\n",
    "    return result\n",
    "        \n"
   ]
  },
  {
   "cell_type": "code",
   "execution_count": 3,
   "metadata": {},
   "outputs": [
    {
     "name": "stdout",
     "output_type": "stream",
     "text": [
      "GM chr18.10530000.11160000 : 0.13081540770385192\n",
      "H chr18.10530000.11160000 : 0.31079854809437385\n",
      "IMR chr18.10530000.11160000 : 0.1499608457321848\n",
      "GM chr16.85845000.86580000 : 0.08921180906833441\n",
      "H chr16.85845000.86580000 : 0.22444807849550286\n",
      "IMR chr16.85845000.86580000 : 0.12960682141165325\n",
      "GM chr2.230805000.231690000 : 0.09788611693010855\n",
      "H chr2.230805000.231690000 : 0.13432953826691968\n",
      "IMR chr2.230805000.231690000 : 0.1006161510225485\n"
     ]
    }
   ],
   "source": [
    "tads = ['chr18.10530000.11160000','chr16.85845000.86580000','chr2.230805000.231690000']\n",
    "cell_line_list = ['GM','H','IMR']\n",
    "for tad in tads:\n",
    "    for cell_line in cell_line_list:\n",
    "        chr_num = tad.split('.')[0]\n",
    "        raw_hic = pd.read_csv('..//data/'+cell_line+'_tad/'+tad+'/hic.clean.1/hic.clean.csv.gz')\n",
    "        spe_hic = get_spe_inter(raw_hic,alpha = 0.05)\n",
    "        print(cell_line,tad,':',len(spe_hic)/len(raw_hic))\n",
    "        fold_hic = get_fold_inputs(spe_hic)\n",
    "        fold_hic.to_csv('../data/fold_input/'+cell_line+'_'+tad+'.txt',\n",
    "                        header=None, index=None, sep='\\t', mode='a')"
   ]
  },
  {
   "cell_type": "code",
   "execution_count": null,
   "metadata": {},
   "outputs": [],
   "source": []
  }
 ],
 "metadata": {
  "kernelspec": {
   "display_name": "Python 3",
   "language": "python",
   "name": "python3"
  },
  "language_info": {
   "codemirror_mode": {
    "name": "ipython",
    "version": 3
   },
   "file_extension": ".py",
   "mimetype": "text/x-python",
   "name": "python",
   "nbconvert_exporter": "python",
   "pygments_lexer": "ipython3",
   "version": "3.8.5"
  }
 },
 "nbformat": 4,
 "nbformat_minor": 5
}
